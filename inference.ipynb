{
 "cells": [
  {
   "cell_type": "code",
   "execution_count": 1,
   "metadata": {},
   "outputs": [],
   "source": [
    "import json\n",
    "import random\n",
    "\n",
    "from search import Search"
   ]
  },
  {
   "cell_type": "markdown",
   "metadata": {},
   "source": [
    "Load all the talent profiles and job profiles."
   ]
  },
  {
   "cell_type": "code",
   "execution_count": 2,
   "metadata": {},
   "outputs": [],
   "source": [
    "with open(r'data\\processed\\talent_data.json', 'r') as f:\n",
    "    talent_data = json.load(f)\n",
    "\n",
    "with open(r'data\\processed\\job_data.json', 'r') as f:\n",
    "    job_data = json.load(f)"
   ]
  },
  {
   "cell_type": "markdown",
   "metadata": {},
   "source": [
    "Initializing the model paths of the trained models.\n",
    "\n",
    "NOTE: Only the Decision Tree and Logistic Regression models are used here. The rest (commented) can be also used if needed."
   ]
  },
  {
   "cell_type": "code",
   "execution_count": 3,
   "metadata": {},
   "outputs": [],
   "source": [
    "models = {'DecisionTree': r'models\\2024-02-28_00-16-16_RandomForest.pkl',\n",
    "          'LogisticRegression': r'models\\2024-02-28_00-16-16_LogisticRegression.pkl'}\n",
    "\n",
    "        #   'RandomForest': 'models\\2024-02-28_00-16-16_RandomForest.pkl',\n",
    "        #   'SupportVectorMachine': 'models\\2024-02-28_00-16-16_SVC.pkl',\n",
    "        #   'XGBoost': 'models\\2024-02-28_00-16-16_XGBoost.pkl'}"
   ]
  },
  {
   "cell_type": "markdown",
   "metadata": {},
   "source": [
    "# PART 1: One talent-job pair"
   ]
  },
  {
   "cell_type": "markdown",
   "metadata": {},
   "source": [
    "### Known pair from data"
   ]
  },
  {
   "cell_type": "markdown",
   "metadata": {},
   "source": [
    "Using the first pairs."
   ]
  },
  {
   "cell_type": "code",
   "execution_count": 24,
   "metadata": {},
   "outputs": [],
   "source": [
    "talent_profile = talent_data[0]\n",
    "job_profile = job_data[0]"
   ]
  },
  {
   "cell_type": "code",
   "execution_count": 25,
   "metadata": {},
   "outputs": [
    {
     "data": {
      "text/plain": [
       "{'languages': [{'rating': 'C2', 'title': 'German'},\n",
       "  {'rating': 'C2', 'title': 'English'},\n",
       "  {'rating': 'B2', 'title': 'French'},\n",
       "  {'rating': 'A2', 'title': 'Turkish'}],\n",
       " 'job_roles': ['frontend-developer',\n",
       "  'backend-developer',\n",
       "  'full-stack-developer',\n",
       "  'java-developer',\n",
       "  'mobile-developer'],\n",
       " 'seniority': 'junior',\n",
       " 'salary_expectation': 48000,\n",
       " 'degree': 'bachelor'}"
      ]
     },
     "execution_count": 25,
     "metadata": {},
     "output_type": "execute_result"
    }
   ],
   "source": [
    "talent_profile"
   ]
  },
  {
   "cell_type": "code",
   "execution_count": 26,
   "metadata": {},
   "outputs": [
    {
     "data": {
      "text/plain": [
       "{'languages': [{'title': 'German', 'rating': 'C1', 'must_have': True},\n",
       "  {'title': 'English', 'rating': 'B2', 'must_have': True}],\n",
       " 'job_roles': ['frontend-developer'],\n",
       " 'seniorities': ['junior', 'midlevel'],\n",
       " 'max_salary': 70000,\n",
       " 'min_degree': 'none'}"
      ]
     },
     "execution_count": 26,
     "metadata": {},
     "output_type": "execute_result"
    }
   ],
   "source": [
    "job_profile"
   ]
  },
  {
   "cell_type": "markdown",
   "metadata": {},
   "source": [
    "Using the match() fuction of the Search class from the search.py script to match one pair of talent and job profiles."
   ]
  },
  {
   "cell_type": "code",
   "execution_count": 27,
   "metadata": {},
   "outputs": [
    {
     "name": "stdout",
     "output_type": "stream",
     "text": [
      "\n",
      "Model: DecisionTree\n",
      "==============================\n",
      "Result: {'talent': {'languages': [{'rating': 'C2', 'title': 'German'}, {'rating': 'C2', 'title': 'English'}, {'rating': 'B2', 'title': 'French'}, {'rating': 'A2', 'title': 'Turkish'}], 'job_roles': ['frontend-developer', 'backend-developer', 'full-stack-developer', 'java-developer', 'mobile-developer'], 'seniority': 'junior', 'salary_expectation': 48000, 'degree': 'bachelor'}, 'job': {'languages': [{'title': 'German', 'rating': 'C1', 'must_have': True}, {'title': 'English', 'rating': 'B2', 'must_have': True}], 'job_roles': ['frontend-developer'], 'seniorities': ['junior', 'midlevel'], 'max_salary': 70000, 'min_degree': 'none'}, 'label': True, 'score': 1.0}\n",
      "\n",
      "Label: True\n",
      "Score: 1.0\n",
      "\n",
      "Model: LogisticRegression\n",
      "==============================\n",
      "Result: {'talent': {'languages': [{'rating': 'C2', 'title': 'German'}, {'rating': 'C2', 'title': 'English'}, {'rating': 'B2', 'title': 'French'}, {'rating': 'A2', 'title': 'Turkish'}], 'job_roles': ['frontend-developer', 'backend-developer', 'full-stack-developer', 'java-developer', 'mobile-developer'], 'seniority': 'junior', 'salary_expectation': 48000, 'degree': 'bachelor'}, 'job': {'languages': [{'title': 'German', 'rating': 'C1', 'must_have': True}, {'title': 'English', 'rating': 'B2', 'must_have': True}], 'job_roles': ['frontend-developer'], 'seniorities': ['junior', 'midlevel'], 'max_salary': 70000, 'min_degree': 'none'}, 'label': True, 'score': 0.8146508229887962}\n",
      "\n",
      "Label: True\n",
      "Score: 0.8146508229887962\n"
     ]
    }
   ],
   "source": [
    "for name, model_path in models.items():\n",
    "    \n",
    "    search = Search(model_path)\n",
    "    result = search.match(talent=talent_profile,\n",
    "                          job=job_profile)\n",
    "    print(f'\\nModel: {name}')\n",
    "    print('='*30)\n",
    "    print(f'Result: {result}')\n",
    "    print(f'\\nLabel: {result[\"label\"]}')\n",
    "    print(f'Score: {result[\"score\"]}')"
   ]
  },
  {
   "cell_type": "markdown",
   "metadata": {},
   "source": [
    "### Unknown pair (randomly chosen from data)"
   ]
  },
  {
   "cell_type": "markdown",
   "metadata": {},
   "source": [
    "The talent and job profiles are chosen randomly here."
   ]
  },
  {
   "cell_type": "code",
   "execution_count": 8,
   "metadata": {},
   "outputs": [],
   "source": [
    "random_integer_for_talent = random.randint(0, 1999)\n",
    "random_integer_for_job = random.randint(0, 1999)\n",
    "\n",
    "talent_profile = talent_data[random_integer_for_talent]\n",
    "job_profile = job_data[random_integer_for_job]"
   ]
  },
  {
   "cell_type": "code",
   "execution_count": 9,
   "metadata": {},
   "outputs": [
    {
     "data": {
      "text/plain": [
       "{'languages': [{'rating': 'C2', 'title': 'German'},\n",
       "  {'rating': 'B2', 'title': 'English'}],\n",
       " 'job_roles': ['sales-manager',\n",
       "  'key-account-manager',\n",
       "  'customer-success-manager',\n",
       "  'business-development-manager'],\n",
       " 'seniority': 'junior',\n",
       " 'salary_expectation': 46000,\n",
       " 'degree': 'bachelor'}"
      ]
     },
     "execution_count": 9,
     "metadata": {},
     "output_type": "execute_result"
    }
   ],
   "source": [
    "talent_profile"
   ]
  },
  {
   "cell_type": "code",
   "execution_count": 10,
   "metadata": {},
   "outputs": [
    {
     "data": {
      "text/plain": [
       "{'languages': [{'title': 'German', 'rating': 'C1', 'must_have': True},\n",
       "  {'title': 'English', 'rating': 'C1', 'must_have': True}],\n",
       " 'job_roles': ['sales-manager'],\n",
       " 'seniorities': ['none', 'junior', 'midlevel'],\n",
       " 'max_salary': 70000,\n",
       " 'min_degree': 'bachelor'}"
      ]
     },
     "execution_count": 10,
     "metadata": {},
     "output_type": "execute_result"
    }
   ],
   "source": [
    "job_profile"
   ]
  },
  {
   "cell_type": "code",
   "execution_count": 11,
   "metadata": {},
   "outputs": [
    {
     "name": "stdout",
     "output_type": "stream",
     "text": [
      "\n",
      "Model: DecisionTree\n",
      "==============================\n",
      "Result: {'talent': {'languages': [{'rating': 'C2', 'title': 'German'}, {'rating': 'B2', 'title': 'English'}], 'job_roles': ['sales-manager', 'key-account-manager', 'customer-success-manager', 'business-development-manager'], 'seniority': 'junior', 'salary_expectation': 46000, 'degree': 'bachelor'}, 'job': {'languages': [{'title': 'German', 'rating': 'C1', 'must_have': True}, {'title': 'English', 'rating': 'C1', 'must_have': True}], 'job_roles': ['sales-manager'], 'seniorities': ['none', 'junior', 'midlevel'], 'max_salary': 70000, 'min_degree': 'bachelor'}, 'label': False, 'score': 0.02}\n",
      "\n",
      "Label: False\n",
      "Score: 0.02\n",
      "\n",
      "Model: LogisticRegression\n",
      "==============================\n",
      "Result: {'talent': {'languages': [{'rating': 'C2', 'title': 'German'}, {'rating': 'B2', 'title': 'English'}], 'job_roles': ['sales-manager', 'key-account-manager', 'customer-success-manager', 'business-development-manager'], 'seniority': 'junior', 'salary_expectation': 46000, 'degree': 'bachelor'}, 'job': {'languages': [{'title': 'German', 'rating': 'C1', 'must_have': True}, {'title': 'English', 'rating': 'C1', 'must_have': True}], 'job_roles': ['sales-manager'], 'seniorities': ['none', 'junior', 'midlevel'], 'max_salary': 70000, 'min_degree': 'bachelor'}, 'label': True, 'score': 0.8348843788710746}\n",
      "\n",
      "Label: True\n",
      "Score: 0.8348843788710746\n"
     ]
    }
   ],
   "source": [
    "for name, model_path in models.items():\n",
    "    \n",
    "    search = Search(model_path)\n",
    "    result = search.match(talent=talent_profile,\n",
    "                          job=job_profile)\n",
    "    print(f'\\nModel: {name}')\n",
    "    print('='*30)\n",
    "    print(f'Result: {result}')\n",
    "    print(f'\\nLabel: {result[\"label\"]}')\n",
    "    print(f'Score: {result[\"score\"]}')"
   ]
  },
  {
   "cell_type": "markdown",
   "metadata": {},
   "source": [
    "# PART 2: List of talent profiles and list of job profiles\n",
    "\n",
    "NOTE: Please be careful with very large lists here, as it may take long time. In this example, only the first 10 entries of talent profiles and job profiles have been used. 100 combinations took 1.33 seconds to compute."
   ]
  },
  {
   "cell_type": "code",
   "execution_count": 13,
   "metadata": {},
   "outputs": [
    {
     "name": "stdout",
     "output_type": "stream",
     "text": [
      "CPU times: total: 1.34 s\n",
      "Wall time: 1.33 s\n"
     ]
    }
   ],
   "source": [
    "%%time\n",
    "\n",
    "model_path = models['DecisionTree']\n",
    "\n",
    "search = Search(model_path)\n",
    "results = search.match_bulk(talents=talent_data[:10],\n",
    "                            jobs=job_data[:10])"
   ]
  },
  {
   "cell_type": "code",
   "execution_count": 14,
   "metadata": {},
   "outputs": [
    {
     "name": "stdout",
     "output_type": "stream",
     "text": [
      "Total number of results: 100\n"
     ]
    }
   ],
   "source": [
    "print(f'Total number of results: {len(results)}')"
   ]
  },
  {
   "cell_type": "markdown",
   "metadata": {},
   "source": [
    "Random range of results in the middle are displayed here to show that results are ranked in the descending order based on the score."
   ]
  },
  {
   "cell_type": "code",
   "execution_count": 22,
   "metadata": {},
   "outputs": [
    {
     "name": "stdout",
     "output_type": "stream",
     "text": [
      "Label: True, Score: 1.0\n",
      "Label: True, Score: 1.0\n",
      "Label: True, Score: 1.0\n",
      "Label: True, Score: 1.0\n",
      "Label: True, Score: 1.0\n",
      "Label: True, Score: 1.0\n",
      "Label: True, Score: 0.99\n",
      "Label: True, Score: 0.87\n",
      "Label: False, Score: 0.08\n",
      "Label: False, Score: 0.05\n",
      "Label: False, Score: 0.04\n",
      "Label: False, Score: 0.04\n",
      "Label: False, Score: 0.02\n",
      "Label: False, Score: 0.01\n",
      "Label: False, Score: 0.01\n"
     ]
    }
   ],
   "source": [
    "for result in results[20:35]:\n",
    "    print(f'Label: {result[\"label\"]}, Score: {result[\"score\"]}')"
   ]
  },
  {
   "cell_type": "code",
   "execution_count": null,
   "metadata": {},
   "outputs": [],
   "source": []
  }
 ],
 "metadata": {
  "kernelspec": {
   "display_name": "instaffo_ml_assignment",
   "language": "python",
   "name": "python3"
  },
  "language_info": {
   "codemirror_mode": {
    "name": "ipython",
    "version": 3
   },
   "file_extension": ".py",
   "mimetype": "text/x-python",
   "name": "python",
   "nbconvert_exporter": "python",
   "pygments_lexer": "ipython3",
   "version": "3.11.7"
  }
 },
 "nbformat": 4,
 "nbformat_minor": 2
}
